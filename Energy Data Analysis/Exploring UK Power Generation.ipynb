{
 "cells": [
  {
   "cell_type": "markdown",
   "metadata": {},
   "source": [
    "# Setup"
   ]
  },
  {
   "cell_type": "code",
   "execution_count": 1,
   "metadata": {},
   "outputs": [],
   "source": [
    "# Setup\n",
    "import pandas as pd\n",
    "import numpy as np\n",
    "import datetime as dt\n",
    "import matplotlib.pyplot as plt\n",
    "import glob\n",
    "import imageio\n",
    "import os\n",
    "%matplotlib inline\n",
    "\n",
    "plt.style.use(['seaborn'])\n",
    "font = {'fontname':'Roboto Condensed'} # Have to specify custom font in plots\n",
    "params = {\n",
    "    'figure.figsize' : (12, 6), \n",
    "    'font.size' : 16, \n",
    "    'axes.labelsize' : 'large', \n",
    "    'xtick.labelsize' : 'small', \n",
    "    'ytick.labelsize' : 'small', \n",
    "    'axes.titlesize' : 24, \n",
    "    'axes.grid' : True, \n",
    "}\n",
    "plt.rcParams.update(params)"
   ]
  },
  {
   "cell_type": "markdown",
   "metadata": {},
   "source": [
    "## Download data from GridWatch\n",
    "http://www.gridwatch.templar.co.uk/"
   ]
  },
  {
   "cell_type": "code",
   "execution_count": 2,
   "metadata": {},
   "outputs": [],
   "source": [
    "# Parse dates when we read in, so handy.\n",
    "df = pd.read_csv('gridwatch UK generation 20110528-20181021.csv', \n",
    "                 parse_dates=[' timestamp'], dayfirst=True, index_col=' timestamp')\n",
    "\n",
    "df.index.names = ['Datetime']"
   ]
  },
  {
   "cell_type": "code",
   "execution_count": 3,
   "metadata": {},
   "outputs": [
    {
     "data": {
      "text/plain": [
       "Index(['id', ' demand', ' frequency', ' coal', ' nuclear', ' ccgt', ' wind',\n",
       "       ' pumped', ' hydro', ' biomass', ' oil', ' solar', ' ocgt',\n",
       "       ' french_ict', ' dutch_ict', ' irish_ict', ' ew_ict', ' other',\n",
       "       ' north_south', ' scotland_england'],\n",
       "      dtype='object')"
      ]
     },
     "execution_count": 3,
     "metadata": {},
     "output_type": "execute_result"
    }
   ],
   "source": [
    "df.columns"
   ]
  },
  {
   "cell_type": "code",
   "execution_count": 5,
   "metadata": {},
   "outputs": [],
   "source": [
    "# df.groupby(by=[df.index.date]).sum()\n",
    "df['Date'] = df.index.date\n",
    "df['Time'] = df.index.time\n",
    "df['Year'] = df.index.year\n",
    "df['dayofyear'] = df.index.dayofyear"
   ]
  },
  {
   "cell_type": "code",
   "execution_count": 6,
   "metadata": {},
   "outputs": [],
   "source": [
    "pivot = df.pivot_table(index=['Date', 'Time'])"
   ]
  },
  {
   "cell_type": "code",
   "execution_count": 7,
   "metadata": {},
   "outputs": [
    {
     "data": {
      "text/html": [
       "<div>\n",
       "<style scoped>\n",
       "    .dataframe tbody tr th:only-of-type {\n",
       "        vertical-align: middle;\n",
       "    }\n",
       "\n",
       "    .dataframe tbody tr th {\n",
       "        vertical-align: top;\n",
       "    }\n",
       "\n",
       "    .dataframe thead th {\n",
       "        text-align: right;\n",
       "    }\n",
       "</style>\n",
       "<table border=\"1\" class=\"dataframe\">\n",
       "  <thead>\n",
       "    <tr style=\"text-align: right;\">\n",
       "      <th></th>\n",
       "      <th></th>\n",
       "      <th>biomass</th>\n",
       "      <th>ccgt</th>\n",
       "      <th>coal</th>\n",
       "      <th>demand</th>\n",
       "      <th>dutch_ict</th>\n",
       "      <th>ew_ict</th>\n",
       "      <th>french_ict</th>\n",
       "      <th>frequency</th>\n",
       "      <th>hydro</th>\n",
       "      <th>irish_ict</th>\n",
       "      <th>...</th>\n",
       "      <th>ocgt</th>\n",
       "      <th>oil</th>\n",
       "      <th>other</th>\n",
       "      <th>pumped</th>\n",
       "      <th>scotland_england</th>\n",
       "      <th>solar</th>\n",
       "      <th>wind</th>\n",
       "      <th>Year</th>\n",
       "      <th>dayofyear</th>\n",
       "      <th>id</th>\n",
       "    </tr>\n",
       "    <tr>\n",
       "      <th>Date</th>\n",
       "      <th>Time</th>\n",
       "      <th></th>\n",
       "      <th></th>\n",
       "      <th></th>\n",
       "      <th></th>\n",
       "      <th></th>\n",
       "      <th></th>\n",
       "      <th></th>\n",
       "      <th></th>\n",
       "      <th></th>\n",
       "      <th></th>\n",
       "      <th></th>\n",
       "      <th></th>\n",
       "      <th></th>\n",
       "      <th></th>\n",
       "      <th></th>\n",
       "      <th></th>\n",
       "      <th></th>\n",
       "      <th></th>\n",
       "      <th></th>\n",
       "      <th></th>\n",
       "      <th></th>\n",
       "    </tr>\n",
       "  </thead>\n",
       "  <tbody>\n",
       "    <tr>\n",
       "      <th rowspan=\"5\" valign=\"top\">2011-05-27</th>\n",
       "      <th>15:50:04</th>\n",
       "      <td>0.0</td>\n",
       "      <td>18239.0</td>\n",
       "      <td>9316.0</td>\n",
       "      <td>38874.0</td>\n",
       "      <td>0.0</td>\n",
       "      <td>0.0</td>\n",
       "      <td>912</td>\n",
       "      <td>50.132000</td>\n",
       "      <td>636.0</td>\n",
       "      <td>-414</td>\n",
       "      <td>...</td>\n",
       "      <td>0</td>\n",
       "      <td>0</td>\n",
       "      <td>0.0</td>\n",
       "      <td>309.0</td>\n",
       "      <td>0</td>\n",
       "      <td>0.0</td>\n",
       "      <td>1253.0</td>\n",
       "      <td>2011</td>\n",
       "      <td>147</td>\n",
       "      <td>4.0</td>\n",
       "    </tr>\n",
       "    <tr>\n",
       "      <th>15:55:02</th>\n",
       "      <td>0.0</td>\n",
       "      <td>18158.0</td>\n",
       "      <td>9294.0</td>\n",
       "      <td>38845.0</td>\n",
       "      <td>0.0</td>\n",
       "      <td>0.0</td>\n",
       "      <td>912</td>\n",
       "      <td>50.091000</td>\n",
       "      <td>633.0</td>\n",
       "      <td>-414</td>\n",
       "      <td>...</td>\n",
       "      <td>0</td>\n",
       "      <td>0</td>\n",
       "      <td>0.0</td>\n",
       "      <td>332.0</td>\n",
       "      <td>0</td>\n",
       "      <td>0.0</td>\n",
       "      <td>1304.0</td>\n",
       "      <td>2011</td>\n",
       "      <td>147</td>\n",
       "      <td>5.0</td>\n",
       "    </tr>\n",
       "    <tr>\n",
       "      <th>16:00:02</th>\n",
       "      <td>0.0</td>\n",
       "      <td>18110.0</td>\n",
       "      <td>9270.0</td>\n",
       "      <td>38745.0</td>\n",
       "      <td>0.0</td>\n",
       "      <td>0.0</td>\n",
       "      <td>912</td>\n",
       "      <td>50.034000</td>\n",
       "      <td>634.0</td>\n",
       "      <td>-414</td>\n",
       "      <td>...</td>\n",
       "      <td>0</td>\n",
       "      <td>0</td>\n",
       "      <td>0.0</td>\n",
       "      <td>285.0</td>\n",
       "      <td>0</td>\n",
       "      <td>0.0</td>\n",
       "      <td>1322.0</td>\n",
       "      <td>2011</td>\n",
       "      <td>147</td>\n",
       "      <td>6.0</td>\n",
       "    </tr>\n",
       "    <tr>\n",
       "      <th>16:05:01</th>\n",
       "      <td>0.0</td>\n",
       "      <td>18114.0</td>\n",
       "      <td>9262.0</td>\n",
       "      <td>38826.0</td>\n",
       "      <td>0.0</td>\n",
       "      <td>0.0</td>\n",
       "      <td>900</td>\n",
       "      <td>49.990002</td>\n",
       "      <td>635.0</td>\n",
       "      <td>-414</td>\n",
       "      <td>...</td>\n",
       "      <td>0</td>\n",
       "      <td>0</td>\n",
       "      <td>0.0</td>\n",
       "      <td>287.0</td>\n",
       "      <td>0</td>\n",
       "      <td>0.0</td>\n",
       "      <td>1364.0</td>\n",
       "      <td>2011</td>\n",
       "      <td>147</td>\n",
       "      <td>7.0</td>\n",
       "    </tr>\n",
       "    <tr>\n",
       "      <th>16:10:02</th>\n",
       "      <td>0.0</td>\n",
       "      <td>18107.0</td>\n",
       "      <td>9256.0</td>\n",
       "      <td>38865.0</td>\n",
       "      <td>0.0</td>\n",
       "      <td>0.0</td>\n",
       "      <td>900</td>\n",
       "      <td>50.016998</td>\n",
       "      <td>637.0</td>\n",
       "      <td>-414</td>\n",
       "      <td>...</td>\n",
       "      <td>0</td>\n",
       "      <td>0</td>\n",
       "      <td>0.0</td>\n",
       "      <td>297.0</td>\n",
       "      <td>0</td>\n",
       "      <td>0.0</td>\n",
       "      <td>1370.0</td>\n",
       "      <td>2011</td>\n",
       "      <td>147</td>\n",
       "      <td>8.0</td>\n",
       "    </tr>\n",
       "  </tbody>\n",
       "</table>\n",
       "<p>5 rows × 22 columns</p>\n",
       "</div>"
      ],
      "text/plain": [
       "                      biomass     ccgt    coal   demand   dutch_ict   ew_ict  \\\n",
       "Date       Time                                                                \n",
       "2011-05-27 15:50:04       0.0  18239.0  9316.0  38874.0         0.0      0.0   \n",
       "           15:55:02       0.0  18158.0  9294.0  38845.0         0.0      0.0   \n",
       "           16:00:02       0.0  18110.0  9270.0  38745.0         0.0      0.0   \n",
       "           16:05:01       0.0  18114.0  9262.0  38826.0         0.0      0.0   \n",
       "           16:10:02       0.0  18107.0  9256.0  38865.0         0.0      0.0   \n",
       "\n",
       "                      french_ict   frequency   hydro   irish_ict ...    ocgt  \\\n",
       "Date       Time                                                  ...           \n",
       "2011-05-27 15:50:04          912   50.132000   636.0        -414 ...       0   \n",
       "           15:55:02          912   50.091000   633.0        -414 ...       0   \n",
       "           16:00:02          912   50.034000   634.0        -414 ...       0   \n",
       "           16:05:01          900   49.990002   635.0        -414 ...       0   \n",
       "           16:10:02          900   50.016998   637.0        -414 ...       0   \n",
       "\n",
       "                      oil   other   pumped   scotland_england   solar    wind  \\\n",
       "Date       Time                                                                 \n",
       "2011-05-27 15:50:04     0     0.0    309.0                  0     0.0  1253.0   \n",
       "           15:55:02     0     0.0    332.0                  0     0.0  1304.0   \n",
       "           16:00:02     0     0.0    285.0                  0     0.0  1322.0   \n",
       "           16:05:01     0     0.0    287.0                  0     0.0  1364.0   \n",
       "           16:10:02     0     0.0    297.0                  0     0.0  1370.0   \n",
       "\n",
       "                     Year  dayofyear   id  \n",
       "Date       Time                            \n",
       "2011-05-27 15:50:04  2011        147  4.0  \n",
       "           15:55:02  2011        147  5.0  \n",
       "           16:00:02  2011        147  6.0  \n",
       "           16:05:01  2011        147  7.0  \n",
       "           16:10:02  2011        147  8.0  \n",
       "\n",
       "[5 rows x 22 columns]"
      ]
     },
     "execution_count": 7,
     "metadata": {},
     "output_type": "execute_result"
    }
   ],
   "source": [
    "pivot.head()"
   ]
  },
  {
   "cell_type": "code",
   "execution_count": 8,
   "metadata": {},
   "outputs": [],
   "source": [
    "pivot = pivot.reset_index()"
   ]
  },
  {
   "cell_type": "code",
   "execution_count": 9,
   "metadata": {},
   "outputs": [],
   "source": [
    "date = dt.date(2018,2,5)"
   ]
  },
  {
   "cell_type": "code",
   "execution_count": 10,
   "metadata": {},
   "outputs": [
    {
     "data": {
      "text/html": [
       "<div>\n",
       "<style scoped>\n",
       "    .dataframe tbody tr th:only-of-type {\n",
       "        vertical-align: middle;\n",
       "    }\n",
       "\n",
       "    .dataframe tbody tr th {\n",
       "        vertical-align: top;\n",
       "    }\n",
       "\n",
       "    .dataframe thead th {\n",
       "        text-align: right;\n",
       "    }\n",
       "</style>\n",
       "<table border=\"1\" class=\"dataframe\">\n",
       "  <thead>\n",
       "    <tr style=\"text-align: right;\">\n",
       "      <th></th>\n",
       "      <th>Date</th>\n",
       "      <th>Time</th>\n",
       "      <th>biomass</th>\n",
       "      <th>ccgt</th>\n",
       "      <th>coal</th>\n",
       "      <th>demand</th>\n",
       "      <th>dutch_ict</th>\n",
       "      <th>ew_ict</th>\n",
       "      <th>french_ict</th>\n",
       "      <th>frequency</th>\n",
       "      <th>...</th>\n",
       "      <th>ocgt</th>\n",
       "      <th>oil</th>\n",
       "      <th>other</th>\n",
       "      <th>pumped</th>\n",
       "      <th>scotland_england</th>\n",
       "      <th>solar</th>\n",
       "      <th>wind</th>\n",
       "      <th>Year</th>\n",
       "      <th>dayofyear</th>\n",
       "      <th>id</th>\n",
       "    </tr>\n",
       "  </thead>\n",
       "  <tbody>\n",
       "    <tr>\n",
       "      <th>56267</th>\n",
       "      <td>2011-12-09</td>\n",
       "      <td>17:05:11</td>\n",
       "      <td>0.0</td>\n",
       "      <td>14300.0</td>\n",
       "      <td>25300.0</td>\n",
       "      <td>52658.0</td>\n",
       "      <td>994.0</td>\n",
       "      <td>0.0</td>\n",
       "      <td>1740</td>\n",
       "      <td>49.987999</td>\n",
       "      <td>...</td>\n",
       "      <td>0</td>\n",
       "      <td>0</td>\n",
       "      <td>0.0</td>\n",
       "      <td>1379.0</td>\n",
       "      <td>0</td>\n",
       "      <td>0.0</td>\n",
       "      <td>1578.0</td>\n",
       "      <td>2011</td>\n",
       "      <td>343</td>\n",
       "      <td>56275.0</td>\n",
       "    </tr>\n",
       "  </tbody>\n",
       "</table>\n",
       "<p>1 rows × 24 columns</p>\n",
       "</div>"
      ],
      "text/plain": [
       "             Date      Time   biomass     ccgt     coal   demand   dutch_ict  \\\n",
       "56267  2011-12-09  17:05:11       0.0  14300.0  25300.0  52658.0       994.0   \n",
       "\n",
       "        ew_ict   french_ict   frequency   ...      ocgt   oil   other  \\\n",
       "56267      0.0         1740   49.987999   ...         0     0     0.0   \n",
       "\n",
       "        pumped   scotland_england   solar    wind  Year  dayofyear       id  \n",
       "56267   1379.0                  0     0.0  1578.0  2011        343  56275.0  \n",
       "\n",
       "[1 rows x 24 columns]"
      ]
     },
     "execution_count": 10,
     "metadata": {},
     "output_type": "execute_result"
    }
   ],
   "source": [
    "pivot.sort_values(' coal', ascending=False)[:1]"
   ]
  },
  {
   "cell_type": "code",
   "execution_count": 11,
   "metadata": {},
   "outputs": [],
   "source": [
    "date = dt.date(2018,2,5)"
   ]
  },
  {
   "cell_type": "code",
   "execution_count": 12,
   "metadata": {},
   "outputs": [
    {
     "data": {
      "text/plain": [
       "56267    2011-12-09\n",
       "Name: Date, dtype: object"
      ]
     },
     "execution_count": 12,
     "metadata": {},
     "output_type": "execute_result"
    }
   ],
   "source": [
    "year = 2011\n",
    "pivot[pivot['Year'] == year].sort_values(' coal', ascending=False)[:1]['Date']"
   ]
  },
  {
   "cell_type": "code",
   "execution_count": 13,
   "metadata": {},
   "outputs": [],
   "source": [
    "def daily_demand(date):\n",
    "    day = pivot[pivot['Date'] == date]\n",
    "    day.plot(x = 'Time', y=' coal', ylim=(0,26000), title='Yearly peak day of UK Coal Generation, ' + str(date)) # xlim=(0, 23), ylim=(200000, 600000)\n",
    "    plt.savefig('coal/%s.png' % str(date))"
   ]
  },
  {
   "cell_type": "code",
   "execution_count": 14,
   "metadata": {},
   "outputs": [],
   "source": [
    "dates = []\n",
    "dates.append(dt.date(2012,2,9))\n",
    "dates.append(dt.date(2013,1,17))\n",
    "dates.append(dt.date(2014,1,23))\n",
    "dates.append(dt.date(2015,2,2))\n",
    "dates.append(dt.date(2016,1,18))\n",
    "dates.append(dt.date(2017,2,6))\n",
    "dates.append(dt.date(2018,3,1))"
   ]
  },
  {
   "cell_type": "code",
   "execution_count": 15,
   "metadata": {},
   "outputs": [
    {
     "data": {
      "image/png": "[encoded data removed]",
      "text/plain": [
       "<matplotlib.figure.Figure at 0x119fba2e8>"
      ]
     },
     "metadata": {},
     "output_type": "display_data"
    }
   ],
   "source": [
    "# for date in dates:\n",
    "#     daily_demand(date)\n",
    "\n",
    "plt.plot()\n",
    "\n",
    "for date in dates:\n",
    "    day = pivot[pivot['Date'] == date]\n",
    "    plt.plot(day['Time'], day[' coal'])\n",
    "    \n",
    "plt.legend(['2012', '2013', '2014', '2015', '2016', '2017', '2018'], loc='lower right')\n",
    "ax = plt.gca()\n",
    "ax.set_xlim(dt.time(0,0), dt.time(23, 30))\n",
    "plt.ylim(0, 26000)\n",
    "plt.title('Day of year with highest UK coal generation')\n",
    "plt.show()"
   ]
  },
  {
   "cell_type": "markdown",
   "metadata": {},
   "source": [
    "## Make a gif of total demand over a year"
   ]
  },
  {
   "cell_type": "code",
   "execution_count": 17,
   "metadata": {},
   "outputs": [],
   "source": [
    "all_2017 = pivot[pivot['Year'] == 2017]"
   ]
  },
  {
   "cell_type": "code",
   "execution_count": 18,
   "metadata": {},
   "outputs": [],
   "source": [
    "def demand(date, all_2017):\n",
    "    day = all_2017[all_2017['Date'] == date]\n",
    "    day.plot(x = 'Time', y=' demand',ylim=(15000, 60000), title=str(date))\n",
    "    plt.savefig('2017/%s.png' % str(date))\n",
    "#     plt.show()\n",
    "    plt.close()"
   ]
  },
  {
   "cell_type": "code",
   "execution_count": 19,
   "metadata": {},
   "outputs": [],
   "source": [
    "dates = pd.date_range('1/1/2017', periods=365, freq='D')"
   ]
  },
  {
   "cell_type": "code",
   "execution_count": 20,
   "metadata": {},
   "outputs": [],
   "source": [
    "# for date in dates:\n",
    "#     demand(date.date(), all_2017)"
   ]
  },
  {
   "cell_type": "code",
   "execution_count": 21,
   "metadata": {},
   "outputs": [],
   "source": [
    "# Make a gif\n",
    "path = '2017/'\n",
    "image_folder = os.fsencode(path)\n",
    "\n",
    "filenames = []\n",
    "\n",
    "for file in os.listdir(image_folder):\n",
    "    filename = os.fsdecode(file)\n",
    "    if filename.endswith( ('.jpeg', '.png', '.gif') ):\n",
    "        filenames.append(path + filename)\n",
    "\n",
    "filenames.sort() # this iteration technique has no built in order, so sort the frames\n",
    "\n",
    "images = list(map(lambda filename: imageio.imread(filename), filenames))\n",
    "\n",
    "imageio.mimsave(os.path.join('output2.gif'), images, duration = 0.02) # modify the frame duration as needed\n"
   ]
  },
  {
   "cell_type": "markdown",
   "metadata": {},
   "source": [
    "![2017](2017-01.gif \"2017\")"
   ]
  },
  {
   "cell_type": "markdown",
   "metadata": {},
   "source": [
    "# Try to do a multi year demand gif"
   ]
  },
  {
   "cell_type": "code",
   "execution_count": 27,
   "metadata": {},
   "outputs": [],
   "source": [
    "# clean pivot of daft values\n",
    "pivot = pivot[pivot[' demand'] < 80000]"
   ]
  },
  {
   "cell_type": "code",
   "execution_count": 51,
   "metadata": {},
   "outputs": [],
   "source": [
    "def yearly(dayofyear):\n",
    "    year1 = 2017\n",
    "    year2 = 2015\n",
    "    year3 = 2013\n",
    "    dayofyear = dayofyear\n",
    "    day = pivot[(pivot['dayofyear'] == dayofyear) & (pivot['Year']== year)]\n",
    "    day2 = pivot[(pivot['dayofyear'] == dayofyear) & (pivot['Year']== year2)]\n",
    "    day3 = pivot[(pivot['dayofyear'] == dayofyear) & (pivot['Year']== year3)]\n",
    "\n",
    "    plt.plot()\n",
    "    plt.ylim(15000, 70000)\n",
    "    plt.plot(day['Time'], day[' demand'])\n",
    "    plt.plot(day2['Time'], day2[' demand'])\n",
    "    plt.plot(day3['Time'], day3[' demand'])\n",
    "    plt.title('UK Demand on day %s' % str(dayofyear))\n",
    "    plt.legend(['2017', '2015'], loc='lower right')\n",
    "#     plt.legend(['2017', '2015', '2013'], loc='lower right')\n",
    "    plt.savefig('yearly/%s.png' % str(dayofyear))\n",
    "    plt.close()"
   ]
  },
  {
   "cell_type": "code",
   "execution_count": 52,
   "metadata": {},
   "outputs": [],
   "source": [
    "for i in range(1, 365):\n",
    "    yearly(i)"
   ]
  },
  {
   "cell_type": "code",
   "execution_count": 54,
   "metadata": {},
   "outputs": [],
   "source": [
    "# Make a gif\n",
    "path = 'yearly/'\n",
    "image_folder = os.fsencode(path)\n",
    "\n",
    "filenames = []\n",
    "\n",
    "for file in os.listdir(image_folder):\n",
    "    filename = os.fsdecode(file)\n",
    "    if filename.endswith( ('.jpeg', '.png', '.gif') ):\n",
    "        filenames.append(path + filename)\n",
    "\n",
    "filenames.sort() # this iteration technique has no built in order, so sort the frames\n",
    "\n",
    "images = list(map(lambda filename: imageio.imread(filename), filenames))\n",
    "\n",
    "imageio.mimsave(os.path.join('yearly6.gif'), images, duration = 0.04) # modify the frame duration as needed\n"
   ]
  },
  {
   "cell_type": "markdown",
   "metadata": {},
   "source": [
    "![yearly](UK demand.gif \"yearly\")"
   ]
  },
  {
   "cell_type": "code",
   "execution_count": null,
   "metadata": {},
   "outputs": [],
   "source": []
  }
 ],
 "metadata": {
  "kernelspec": {
   "display_name": "Python 3",
   "language": "python",
   "name": "python3"
  },
  "language_info": {
   "codemirror_mode": {
    "name": "ipython",
    "version": 3
   },
   "file_extension": ".py",
   "mimetype": "text/x-python",
   "name": "python",
   "nbconvert_exporter": "python",
   "pygments_lexer": "ipython3",
   "version": "3.6.0"
  },
  "toc": {
   "base_numbering": 1,
   "nav_menu": {},
   "number_sections": true,
   "sideBar": true,
   "skip_h1_title": false,
   "title_cell": "Table of Contents",
   "title_sidebar": "Contents",
   "toc_cell": false,
   "toc_position": {},
   "toc_section_display": true,
   "toc_window_display": true
  }
 },
 "nbformat": 4,
 "nbformat_minor": 2
}
